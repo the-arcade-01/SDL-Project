{
 "cells": [
  {
   "cell_type": "code",
   "execution_count": 1,
   "metadata": {
    "colab": {
     "base_uri": "https://localhost:8080/",
     "height": 71
    },
    "colab_type": "code",
    "id": "QcFyqmML6xgV",
    "outputId": "25f75ad2-1a82-4063-a55f-6ddbd2ea9212",
    "tags": []
   },
   "outputs": [],
   "source": [
    "import pandas as pd\n",
    "import re\n",
    "from ast import literal_eval\n",
    "import warnings"
   ]
  },
  {
   "cell_type": "code",
   "execution_count": 2,
   "metadata": {
    "colab": {
     "base_uri": "https://localhost:8080/",
     "height": 425
    },
    "colab_type": "code",
    "id": "n-UJ6vOM6xgq",
    "outputId": "3808950d-6ee6-436f-c95b-3480a182fccc"
   },
   "outputs": [],
   "source": [
    "ratings = pd.read_csv('ml-latest/ratings.csv')"
   ]
  },
  {
   "cell_type": "code",
   "execution_count": 3,
   "metadata": {},
   "outputs": [
    {
     "data": {
      "text/html": [
       "<div>\n",
       "<style scoped>\n",
       "    .dataframe tbody tr th:only-of-type {\n",
       "        vertical-align: middle;\n",
       "    }\n",
       "\n",
       "    .dataframe tbody tr th {\n",
       "        vertical-align: top;\n",
       "    }\n",
       "\n",
       "    .dataframe thead th {\n",
       "        text-align: right;\n",
       "    }\n",
       "</style>\n",
       "<table border=\"1\" class=\"dataframe\">\n",
       "  <thead>\n",
       "    <tr style=\"text-align: right;\">\n",
       "      <th></th>\n",
       "      <th>userId</th>\n",
       "      <th>movieId</th>\n",
       "      <th>rating</th>\n",
       "      <th>timestamp</th>\n",
       "    </tr>\n",
       "  </thead>\n",
       "  <tbody>\n",
       "    <tr>\n",
       "      <th>0</th>\n",
       "      <td>1</td>\n",
       "      <td>307</td>\n",
       "      <td>3.5</td>\n",
       "      <td>1256677221</td>\n",
       "    </tr>\n",
       "    <tr>\n",
       "      <th>1</th>\n",
       "      <td>1</td>\n",
       "      <td>481</td>\n",
       "      <td>3.5</td>\n",
       "      <td>1256677456</td>\n",
       "    </tr>\n",
       "    <tr>\n",
       "      <th>2</th>\n",
       "      <td>1</td>\n",
       "      <td>1091</td>\n",
       "      <td>1.5</td>\n",
       "      <td>1256677471</td>\n",
       "    </tr>\n",
       "    <tr>\n",
       "      <th>3</th>\n",
       "      <td>1</td>\n",
       "      <td>1257</td>\n",
       "      <td>4.5</td>\n",
       "      <td>1256677460</td>\n",
       "    </tr>\n",
       "    <tr>\n",
       "      <th>4</th>\n",
       "      <td>1</td>\n",
       "      <td>1449</td>\n",
       "      <td>4.5</td>\n",
       "      <td>1256677264</td>\n",
       "    </tr>\n",
       "  </tbody>\n",
       "</table>\n",
       "</div>"
      ],
      "text/plain": [
       "   userId  movieId  rating   timestamp\n",
       "0       1      307     3.5  1256677221\n",
       "1       1      481     3.5  1256677456\n",
       "2       1     1091     1.5  1256677471\n",
       "3       1     1257     4.5  1256677460\n",
       "4       1     1449     4.5  1256677264"
      ]
     },
     "execution_count": 3,
     "metadata": {},
     "output_type": "execute_result"
    }
   ],
   "source": [
    "ratings.head()"
   ]
  },
  {
   "cell_type": "code",
   "execution_count": 4,
   "metadata": {
    "colab": {
     "base_uri": "https://localhost:8080/",
     "height": 425
    },
    "colab_type": "code",
    "id": "n-UJ6vOM6xgq",
    "outputId": "3808950d-6ee6-436f-c95b-3480a182fccc"
   },
   "outputs": [],
   "source": [
    "movies = pd.read_csv('ml-latest/movies.csv')"
   ]
  },
  {
   "cell_type": "code",
   "execution_count": 5,
   "metadata": {},
   "outputs": [
    {
     "data": {
      "text/html": [
       "<div>\n",
       "<style scoped>\n",
       "    .dataframe tbody tr th:only-of-type {\n",
       "        vertical-align: middle;\n",
       "    }\n",
       "\n",
       "    .dataframe tbody tr th {\n",
       "        vertical-align: top;\n",
       "    }\n",
       "\n",
       "    .dataframe thead th {\n",
       "        text-align: right;\n",
       "    }\n",
       "</style>\n",
       "<table border=\"1\" class=\"dataframe\">\n",
       "  <thead>\n",
       "    <tr style=\"text-align: right;\">\n",
       "      <th></th>\n",
       "      <th>movieId</th>\n",
       "      <th>title</th>\n",
       "      <th>genres</th>\n",
       "    </tr>\n",
       "  </thead>\n",
       "  <tbody>\n",
       "    <tr>\n",
       "      <th>0</th>\n",
       "      <td>1</td>\n",
       "      <td>Toy Story (1995)</td>\n",
       "      <td>Adventure|Animation|Children|Comedy|Fantasy</td>\n",
       "    </tr>\n",
       "    <tr>\n",
       "      <th>1</th>\n",
       "      <td>2</td>\n",
       "      <td>Jumanji (1995)</td>\n",
       "      <td>Adventure|Children|Fantasy</td>\n",
       "    </tr>\n",
       "    <tr>\n",
       "      <th>2</th>\n",
       "      <td>3</td>\n",
       "      <td>Grumpier Old Men (1995)</td>\n",
       "      <td>Comedy|Romance</td>\n",
       "    </tr>\n",
       "    <tr>\n",
       "      <th>3</th>\n",
       "      <td>4</td>\n",
       "      <td>Waiting to Exhale (1995)</td>\n",
       "      <td>Comedy|Drama|Romance</td>\n",
       "    </tr>\n",
       "    <tr>\n",
       "      <th>4</th>\n",
       "      <td>5</td>\n",
       "      <td>Father of the Bride Part II (1995)</td>\n",
       "      <td>Comedy</td>\n",
       "    </tr>\n",
       "  </tbody>\n",
       "</table>\n",
       "</div>"
      ],
      "text/plain": [
       "   movieId                               title  \\\n",
       "0        1                    Toy Story (1995)   \n",
       "1        2                      Jumanji (1995)   \n",
       "2        3             Grumpier Old Men (1995)   \n",
       "3        4            Waiting to Exhale (1995)   \n",
       "4        5  Father of the Bride Part II (1995)   \n",
       "\n",
       "                                        genres  \n",
       "0  Adventure|Animation|Children|Comedy|Fantasy  \n",
       "1                   Adventure|Children|Fantasy  \n",
       "2                               Comedy|Romance  \n",
       "3                         Comedy|Drama|Romance  \n",
       "4                                       Comedy  "
      ]
     },
     "execution_count": 5,
     "metadata": {},
     "output_type": "execute_result"
    }
   ],
   "source": [
    "movies.head()"
   ]
  },
  {
   "cell_type": "code",
   "execution_count": 6,
   "metadata": {
    "colab": {
     "base_uri": "https://localhost:8080/",
     "height": 425
    },
    "colab_type": "code",
    "id": "n-UJ6vOM6xgq",
    "outputId": "3808950d-6ee6-436f-c95b-3480a182fccc"
   },
   "outputs": [],
   "source": [
    "mv_tags = pd.read_csv('ml-latest/genome-scores.csv')"
   ]
  },
  {
   "cell_type": "code",
   "execution_count": 7,
   "metadata": {},
   "outputs": [
    {
     "data": {
      "text/html": [
       "<div>\n",
       "<style scoped>\n",
       "    .dataframe tbody tr th:only-of-type {\n",
       "        vertical-align: middle;\n",
       "    }\n",
       "\n",
       "    .dataframe tbody tr th {\n",
       "        vertical-align: top;\n",
       "    }\n",
       "\n",
       "    .dataframe thead th {\n",
       "        text-align: right;\n",
       "    }\n",
       "</style>\n",
       "<table border=\"1\" class=\"dataframe\">\n",
       "  <thead>\n",
       "    <tr style=\"text-align: right;\">\n",
       "      <th></th>\n",
       "      <th>movieId</th>\n",
       "      <th>tagId</th>\n",
       "      <th>relevance</th>\n",
       "    </tr>\n",
       "  </thead>\n",
       "  <tbody>\n",
       "    <tr>\n",
       "      <th>0</th>\n",
       "      <td>1</td>\n",
       "      <td>1</td>\n",
       "      <td>0.02900</td>\n",
       "    </tr>\n",
       "    <tr>\n",
       "      <th>1</th>\n",
       "      <td>1</td>\n",
       "      <td>2</td>\n",
       "      <td>0.02375</td>\n",
       "    </tr>\n",
       "    <tr>\n",
       "      <th>2</th>\n",
       "      <td>1</td>\n",
       "      <td>3</td>\n",
       "      <td>0.05425</td>\n",
       "    </tr>\n",
       "    <tr>\n",
       "      <th>3</th>\n",
       "      <td>1</td>\n",
       "      <td>4</td>\n",
       "      <td>0.06875</td>\n",
       "    </tr>\n",
       "    <tr>\n",
       "      <th>4</th>\n",
       "      <td>1</td>\n",
       "      <td>5</td>\n",
       "      <td>0.16000</td>\n",
       "    </tr>\n",
       "  </tbody>\n",
       "</table>\n",
       "</div>"
      ],
      "text/plain": [
       "   movieId  tagId  relevance\n",
       "0        1      1    0.02900\n",
       "1        1      2    0.02375\n",
       "2        1      3    0.05425\n",
       "3        1      4    0.06875\n",
       "4        1      5    0.16000"
      ]
     },
     "execution_count": 7,
     "metadata": {},
     "output_type": "execute_result"
    }
   ],
   "source": [
    "mv_tags.head()"
   ]
  },
  {
   "cell_type": "code",
   "execution_count": 8,
   "metadata": {
    "colab": {
     "base_uri": "https://localhost:8080/",
     "height": 425
    },
    "colab_type": "code",
    "id": "n-UJ6vOM6xgq",
    "outputId": "3808950d-6ee6-436f-c95b-3480a182fccc"
   },
   "outputs": [],
   "source": [
    "mv_tags_desc = pd.read_csv('ml-latest/genome-tags.csv')"
   ]
  },
  {
   "cell_type": "code",
   "execution_count": 9,
   "metadata": {},
   "outputs": [
    {
     "data": {
      "text/html": [
       "<div>\n",
       "<style scoped>\n",
       "    .dataframe tbody tr th:only-of-type {\n",
       "        vertical-align: middle;\n",
       "    }\n",
       "\n",
       "    .dataframe tbody tr th {\n",
       "        vertical-align: top;\n",
       "    }\n",
       "\n",
       "    .dataframe thead th {\n",
       "        text-align: right;\n",
       "    }\n",
       "</style>\n",
       "<table border=\"1\" class=\"dataframe\">\n",
       "  <thead>\n",
       "    <tr style=\"text-align: right;\">\n",
       "      <th></th>\n",
       "      <th>tagId</th>\n",
       "      <th>tag</th>\n",
       "    </tr>\n",
       "  </thead>\n",
       "  <tbody>\n",
       "    <tr>\n",
       "      <th>0</th>\n",
       "      <td>1</td>\n",
       "      <td>007</td>\n",
       "    </tr>\n",
       "    <tr>\n",
       "      <th>1</th>\n",
       "      <td>2</td>\n",
       "      <td>007 (series)</td>\n",
       "    </tr>\n",
       "    <tr>\n",
       "      <th>2</th>\n",
       "      <td>3</td>\n",
       "      <td>18th century</td>\n",
       "    </tr>\n",
       "    <tr>\n",
       "      <th>3</th>\n",
       "      <td>4</td>\n",
       "      <td>1920s</td>\n",
       "    </tr>\n",
       "    <tr>\n",
       "      <th>4</th>\n",
       "      <td>5</td>\n",
       "      <td>1930s</td>\n",
       "    </tr>\n",
       "  </tbody>\n",
       "</table>\n",
       "</div>"
      ],
      "text/plain": [
       "   tagId           tag\n",
       "0      1           007\n",
       "1      2  007 (series)\n",
       "2      3  18th century\n",
       "3      4         1920s\n",
       "4      5         1930s"
      ]
     },
     "execution_count": 9,
     "metadata": {},
     "output_type": "execute_result"
    }
   ],
   "source": [
    "mv_tags_desc.head()"
   ]
  },
  {
   "cell_type": "code",
   "execution_count": 10,
   "metadata": {
    "colab": {},
    "colab_type": "code",
    "id": "nwxjHa0s6xg3"
   },
   "outputs": [],
   "source": [
    "#removing duplicates by title, if found \n",
    "movies.drop_duplicates(subset = 'title',keep='first',inplace=True)"
   ]
  },
  {
   "cell_type": "code",
   "execution_count": 11,
   "metadata": {
    "colab": {},
    "colab_type": "code",
    "id": "0qXt0O0x6xhD"
   },
   "outputs": [],
   "source": [
    "#extracting year\n",
    "movies['year'] =movies['title'].str.extract('.*\\((.*)\\).*',expand = False)\n",
    "movies['year'] = movies['year'].str.strip()"
   ]
  },
  {
   "cell_type": "code",
   "execution_count": 12,
   "metadata": {},
   "outputs": [
    {
     "data": {
      "text/html": [
       "<div>\n",
       "<style scoped>\n",
       "    .dataframe tbody tr th:only-of-type {\n",
       "        vertical-align: middle;\n",
       "    }\n",
       "\n",
       "    .dataframe tbody tr th {\n",
       "        vertical-align: top;\n",
       "    }\n",
       "\n",
       "    .dataframe thead th {\n",
       "        text-align: right;\n",
       "    }\n",
       "</style>\n",
       "<table border=\"1\" class=\"dataframe\">\n",
       "  <thead>\n",
       "    <tr style=\"text-align: right;\">\n",
       "      <th></th>\n",
       "      <th>movieId</th>\n",
       "      <th>title</th>\n",
       "      <th>genres</th>\n",
       "      <th>year</th>\n",
       "    </tr>\n",
       "  </thead>\n",
       "  <tbody>\n",
       "    <tr>\n",
       "      <th>0</th>\n",
       "      <td>1</td>\n",
       "      <td>Toy Story (1995)</td>\n",
       "      <td>Adventure|Animation|Children|Comedy|Fantasy</td>\n",
       "      <td>1995</td>\n",
       "    </tr>\n",
       "    <tr>\n",
       "      <th>1</th>\n",
       "      <td>2</td>\n",
       "      <td>Jumanji (1995)</td>\n",
       "      <td>Adventure|Children|Fantasy</td>\n",
       "      <td>1995</td>\n",
       "    </tr>\n",
       "    <tr>\n",
       "      <th>2</th>\n",
       "      <td>3</td>\n",
       "      <td>Grumpier Old Men (1995)</td>\n",
       "      <td>Comedy|Romance</td>\n",
       "      <td>1995</td>\n",
       "    </tr>\n",
       "    <tr>\n",
       "      <th>3</th>\n",
       "      <td>4</td>\n",
       "      <td>Waiting to Exhale (1995)</td>\n",
       "      <td>Comedy|Drama|Romance</td>\n",
       "      <td>1995</td>\n",
       "    </tr>\n",
       "    <tr>\n",
       "      <th>4</th>\n",
       "      <td>5</td>\n",
       "      <td>Father of the Bride Part II (1995)</td>\n",
       "      <td>Comedy</td>\n",
       "      <td>1995</td>\n",
       "    </tr>\n",
       "  </tbody>\n",
       "</table>\n",
       "</div>"
      ],
      "text/plain": [
       "   movieId                               title  \\\n",
       "0        1                    Toy Story (1995)   \n",
       "1        2                      Jumanji (1995)   \n",
       "2        3             Grumpier Old Men (1995)   \n",
       "3        4            Waiting to Exhale (1995)   \n",
       "4        5  Father of the Bride Part II (1995)   \n",
       "\n",
       "                                        genres  year  \n",
       "0  Adventure|Animation|Children|Comedy|Fantasy  1995  \n",
       "1                   Adventure|Children|Fantasy  1995  \n",
       "2                               Comedy|Romance  1995  \n",
       "3                         Comedy|Drama|Romance  1995  \n",
       "4                                       Comedy  1995  "
      ]
     },
     "execution_count": 12,
     "metadata": {},
     "output_type": "execute_result"
    }
   ],
   "source": [
    "movies.head()"
   ]
  },
  {
   "cell_type": "code",
   "execution_count": 13,
   "metadata": {
    "colab": {},
    "colab_type": "code",
    "id": "lsod-UE76xhQ"
   },
   "outputs": [],
   "source": [
    "#getting count of people who voted for each movie\n",
    "votes = ratings[['movieId','rating']].groupby('movieId', as_index=False).sum()\n",
    "movies['total_votes'] = votes['rating']"
   ]
  },
  {
   "cell_type": "code",
   "execution_count": 14,
   "metadata": {
    "colab": {},
    "colab_type": "code",
    "id": "I-BVmDJ-6xhd",
    "scrolled": true
   },
   "outputs": [],
   "source": [
    "#getting average rating for each movie\n",
    "average_rating = ratings[['movieId','rating']].groupby('movieId', as_index=False).mean()\n",
    "movies['rating'] = average_rating['rating']"
   ]
  },
  {
   "cell_type": "code",
   "execution_count": 15,
   "metadata": {},
   "outputs": [
    {
     "data": {
      "text/html": [
       "<div>\n",
       "<style scoped>\n",
       "    .dataframe tbody tr th:only-of-type {\n",
       "        vertical-align: middle;\n",
       "    }\n",
       "\n",
       "    .dataframe tbody tr th {\n",
       "        vertical-align: top;\n",
       "    }\n",
       "\n",
       "    .dataframe thead th {\n",
       "        text-align: right;\n",
       "    }\n",
       "</style>\n",
       "<table border=\"1\" class=\"dataframe\">\n",
       "  <thead>\n",
       "    <tr style=\"text-align: right;\">\n",
       "      <th></th>\n",
       "      <th>movieId</th>\n",
       "      <th>title</th>\n",
       "      <th>genres</th>\n",
       "      <th>year</th>\n",
       "      <th>total_votes</th>\n",
       "      <th>rating</th>\n",
       "    </tr>\n",
       "  </thead>\n",
       "  <tbody>\n",
       "    <tr>\n",
       "      <th>0</th>\n",
       "      <td>1</td>\n",
       "      <td>Toy Story (1995)</td>\n",
       "      <td>Adventure|Animation|Children|Comedy|Fantasy</td>\n",
       "      <td>1995</td>\n",
       "      <td>266115.0</td>\n",
       "      <td>3.886649</td>\n",
       "    </tr>\n",
       "    <tr>\n",
       "      <th>1</th>\n",
       "      <td>2</td>\n",
       "      <td>Jumanji (1995)</td>\n",
       "      <td>Adventure|Children|Fantasy</td>\n",
       "      <td>1995</td>\n",
       "      <td>88122.0</td>\n",
       "      <td>3.246583</td>\n",
       "    </tr>\n",
       "    <tr>\n",
       "      <th>2</th>\n",
       "      <td>3</td>\n",
       "      <td>Grumpier Old Men (1995)</td>\n",
       "      <td>Comedy|Romance</td>\n",
       "      <td>1995</td>\n",
       "      <td>49466.5</td>\n",
       "      <td>3.173981</td>\n",
       "    </tr>\n",
       "    <tr>\n",
       "      <th>3</th>\n",
       "      <td>4</td>\n",
       "      <td>Waiting to Exhale (1995)</td>\n",
       "      <td>Comedy|Drama|Romance</td>\n",
       "      <td>1995</td>\n",
       "      <td>8592.0</td>\n",
       "      <td>2.874540</td>\n",
       "    </tr>\n",
       "    <tr>\n",
       "      <th>4</th>\n",
       "      <td>5</td>\n",
       "      <td>Father of the Bride Part II (1995)</td>\n",
       "      <td>Comedy</td>\n",
       "      <td>1995</td>\n",
       "      <td>47618.0</td>\n",
       "      <td>3.077291</td>\n",
       "    </tr>\n",
       "  </tbody>\n",
       "</table>\n",
       "</div>"
      ],
      "text/plain": [
       "   movieId                               title  \\\n",
       "0        1                    Toy Story (1995)   \n",
       "1        2                      Jumanji (1995)   \n",
       "2        3             Grumpier Old Men (1995)   \n",
       "3        4            Waiting to Exhale (1995)   \n",
       "4        5  Father of the Bride Part II (1995)   \n",
       "\n",
       "                                        genres  year  total_votes    rating  \n",
       "0  Adventure|Animation|Children|Comedy|Fantasy  1995     266115.0  3.886649  \n",
       "1                   Adventure|Children|Fantasy  1995      88122.0  3.246583  \n",
       "2                               Comedy|Romance  1995      49466.5  3.173981  \n",
       "3                         Comedy|Drama|Romance  1995       8592.0  2.874540  \n",
       "4                                       Comedy  1995      47618.0  3.077291  "
      ]
     },
     "execution_count": 15,
     "metadata": {},
     "output_type": "execute_result"
    }
   ],
   "source": [
    "movies.head()"
   ]
  },
  {
   "cell_type": "code",
   "execution_count": 16,
   "metadata": {
    "colab": {},
    "colab_type": "code",
    "id": "tJhTY3af6xhq"
   },
   "outputs": [],
   "source": [
    "#deleting rows having atleast one null values\n",
    "movies.dropna(axis=0, how=\"any\", inplace=True)"
   ]
  },
  {
   "cell_type": "code",
   "execution_count": 17,
   "metadata": {
    "colab": {},
    "colab_type": "code",
    "id": "pLVa3FAP6xh3"
   },
   "outputs": [],
   "source": [
    "#these movies didnt had release year, so manually handled them\n",
    "movies.loc[movies['movieId'] == 107434,'year'] = 2009\n",
    "movies.loc[movies['movieId'] == 171749,'year'] = 2006\n",
    "movies.loc[movies['movieId'] == 165821,'year'] = 2016\n",
    "movies.loc[movies['movieId'] == 141628,'year'] = 1957\n",
    "movies.loc[movies['movieId'] == 87442,'year'] = 2010\n",
    "movies.loc[movies['movieId'] == 79607,'year'] = 1970\n",
    "movies.loc[movies['movieId'] == 87442,'year'] = 2010\n",
    "movies.loc[movies['movieId'] == 98063,'year'] = 1983"
   ]
  },
  {
   "cell_type": "code",
   "execution_count": 18,
   "metadata": {
    "colab": {},
    "colab_type": "code",
    "id": "XUqJOl9M6xiD"
   },
   "outputs": [],
   "source": [
    "#reducing size of dataset\n",
    "movies['movieId'] = movies['movieId'].astype('int32')\n",
    "movies['title'] = movies['title'].astype('str')\n",
    "movies['genres'] = movies['genres'].astype('str')\n",
    "movies['year'] = movies['year'].astype('float32')\n",
    "movies['total_votes'] = movies['total_votes'].astype('int32')\n",
    "movies['rating'] = movies['rating'].astype('float32')"
   ]
  },
  {
   "cell_type": "code",
   "execution_count": 19,
   "metadata": {
    "colab": {},
    "colab_type": "code",
    "id": "ucTqYTbp6xiP"
   },
   "outputs": [],
   "source": [
    "def movie_title_clean(title):\n",
    "  # if ', The' or ', A' is a the end of the string, move it to the front\n",
    "  # e.g. change \"Illusionist, The\" to \"The Illusionist\"\n",
    "    if title[-5:] == ', The':\n",
    "        title = 'The ' + title[:-5]\n",
    "    elif title[-4:] == ', An':\n",
    "        title = 'An ' + title[:-4]\n",
    "    elif title[-3:] == ', A':\n",
    "        title = 'A ' + title[:-3]\n",
    "    \n",
    "    return title\n",
    "movies['title'] = movies['title'].apply(movie_title_clean)"
   ]
  },
  {
   "cell_type": "code",
   "execution_count": 20,
   "metadata": {
    "colab": {},
    "colab_type": "code",
    "id": "GNVCrrhB6xia"
   },
   "outputs": [
    {
     "data": {
      "text/plain": [
       "(3.0686827, 22438.760000000017)"
      ]
     },
     "execution_count": 20,
     "metadata": {},
     "output_type": "execute_result"
    }
   ],
   "source": [
    "#    v is the number of votes for the movie\n",
    "#    m is the minimum votes required to be listed in the chart\n",
    "#    R is the average rating of the movie\n",
    "#    C is the mean vote across the whole report\n",
    "C = movies['rating'].mean()\n",
    "m =  movies['total_votes'].quantile(0.98)\n",
    "C,m"
   ]
  },
  {
   "cell_type": "code",
   "execution_count": 21,
   "metadata": {
    "colab": {},
    "colab_type": "code",
    "id": "mAgsnxlv6xio"
   },
   "outputs": [],
   "source": [
    "def weighted_rating(x):\n",
    "    v = x['total_votes']\n",
    "    R = x['rating']\n",
    "    return (v/(v+m) * R) + (m/(m+v) * C)"
   ]
  },
  {
   "cell_type": "code",
   "execution_count": 22,
   "metadata": {
    "colab": {},
    "colab_type": "code",
    "id": "twKvaXO96xiz"
   },
   "outputs": [],
   "source": [
    "movies['wr'] = movies.apply(weighted_rating,axis=1)"
   ]
  },
  {
   "cell_type": "code",
   "execution_count": 23,
   "metadata": {},
   "outputs": [
    {
     "data": {
      "text/html": [
       "<div>\n",
       "<style scoped>\n",
       "    .dataframe tbody tr th:only-of-type {\n",
       "        vertical-align: middle;\n",
       "    }\n",
       "\n",
       "    .dataframe tbody tr th {\n",
       "        vertical-align: top;\n",
       "    }\n",
       "\n",
       "    .dataframe thead th {\n",
       "        text-align: right;\n",
       "    }\n",
       "</style>\n",
       "<table border=\"1\" class=\"dataframe\">\n",
       "  <thead>\n",
       "    <tr style=\"text-align: right;\">\n",
       "      <th></th>\n",
       "      <th>movieId</th>\n",
       "      <th>title</th>\n",
       "      <th>genres</th>\n",
       "      <th>year</th>\n",
       "      <th>total_votes</th>\n",
       "      <th>rating</th>\n",
       "      <th>wr</th>\n",
       "    </tr>\n",
       "  </thead>\n",
       "  <tbody>\n",
       "    <tr>\n",
       "      <th>0</th>\n",
       "      <td>1</td>\n",
       "      <td>Toy Story (1995)</td>\n",
       "      <td>Adventure|Animation|Children|Comedy|Fantasy</td>\n",
       "      <td>1995.0</td>\n",
       "      <td>266115</td>\n",
       "      <td>3.886649</td>\n",
       "      <td>3.823042</td>\n",
       "    </tr>\n",
       "    <tr>\n",
       "      <th>1</th>\n",
       "      <td>2</td>\n",
       "      <td>Jumanji (1995)</td>\n",
       "      <td>Adventure|Children|Fantasy</td>\n",
       "      <td>1995.0</td>\n",
       "      <td>88122</td>\n",
       "      <td>3.246583</td>\n",
       "      <td>3.210477</td>\n",
       "    </tr>\n",
       "    <tr>\n",
       "      <th>2</th>\n",
       "      <td>3</td>\n",
       "      <td>Grumpier Old Men (1995)</td>\n",
       "      <td>Comedy|Romance</td>\n",
       "      <td>1995.0</td>\n",
       "      <td>49466</td>\n",
       "      <td>3.173981</td>\n",
       "      <td>3.141122</td>\n",
       "    </tr>\n",
       "    <tr>\n",
       "      <th>3</th>\n",
       "      <td>4</td>\n",
       "      <td>Waiting to Exhale (1995)</td>\n",
       "      <td>Comedy|Drama|Romance</td>\n",
       "      <td>1995.0</td>\n",
       "      <td>8592</td>\n",
       "      <td>2.874540</td>\n",
       "      <td>3.014927</td>\n",
       "    </tr>\n",
       "    <tr>\n",
       "      <th>4</th>\n",
       "      <td>5</td>\n",
       "      <td>Father of the Bride Part II (1995)</td>\n",
       "      <td>Comedy</td>\n",
       "      <td>1995.0</td>\n",
       "      <td>47618</td>\n",
       "      <td>3.077291</td>\n",
       "      <td>3.074534</td>\n",
       "    </tr>\n",
       "  </tbody>\n",
       "</table>\n",
       "</div>"
      ],
      "text/plain": [
       "   movieId                               title  \\\n",
       "0        1                    Toy Story (1995)   \n",
       "1        2                      Jumanji (1995)   \n",
       "2        3             Grumpier Old Men (1995)   \n",
       "3        4            Waiting to Exhale (1995)   \n",
       "4        5  Father of the Bride Part II (1995)   \n",
       "\n",
       "                                        genres    year  total_votes    rating  \\\n",
       "0  Adventure|Animation|Children|Comedy|Fantasy  1995.0       266115  3.886649   \n",
       "1                   Adventure|Children|Fantasy  1995.0        88122  3.246583   \n",
       "2                               Comedy|Romance  1995.0        49466  3.173981   \n",
       "3                         Comedy|Drama|Romance  1995.0         8592  2.874540   \n",
       "4                                       Comedy  1995.0        47618  3.077291   \n",
       "\n",
       "         wr  \n",
       "0  3.823042  \n",
       "1  3.210477  \n",
       "2  3.141122  \n",
       "3  3.014927  \n",
       "4  3.074534  "
      ]
     },
     "execution_count": 23,
     "metadata": {},
     "output_type": "execute_result"
    }
   ],
   "source": [
    "movies.head()"
   ]
  },
  {
   "cell_type": "code",
   "execution_count": 24,
   "metadata": {
    "colab": {},
    "colab_type": "code",
    "id": "sBBz8vDh6xi9"
   },
   "outputs": [],
   "source": [
    "# merging mv_tags with movies on column tagId\n",
    "mv_tags_denorm = mv_tags.merge(mv_tags_desc, on = 'tagId').merge(movies, on = 'movieId')"
   ]
  },
  {
   "cell_type": "code",
   "execution_count": 25,
   "metadata": {
    "colab": {},
    "colab_type": "code",
    "id": "sBBz8vDh6xi9"
   },
   "outputs": [],
   "source": [
    "# for each movie, compute the relevance rank of tags so we can eventually rank order tags for each movie\n",
    "mv_tags_denorm['relevance_rank'] = mv_tags_denorm.groupby(\"movieId\")[\"relevance\"].rank(method = \"first\", ascending \n",
    "                                                                                       = False).astype('int32')"
   ]
  },
  {
   "cell_type": "code",
   "execution_count": 57,
   "metadata": {},
   "outputs": [
    {
     "data": {
      "text/plain": [
       "1128    13142\n",
       "379     13142\n",
       "373     13142\n",
       "374     13142\n",
       "375     13142\n",
       "        ...  \n",
       "746     13142\n",
       "745     13142\n",
       "744     13142\n",
       "743     13142\n",
       "1       13142\n",
       "Name: relevance_rank, Length: 1128, dtype: int64"
      ]
     },
     "execution_count": 57,
     "metadata": {},
     "output_type": "execute_result"
    }
   ],
   "source": [
    "mv_tags_denorm.relevance_rank.value_counts()"
   ]
  },
  {
   "cell_type": "code",
   "execution_count": 26,
   "metadata": {},
   "outputs": [
    {
     "data": {
      "text/html": [
       "<div>\n",
       "<style scoped>\n",
       "    .dataframe tbody tr th:only-of-type {\n",
       "        vertical-align: middle;\n",
       "    }\n",
       "\n",
       "    .dataframe tbody tr th {\n",
       "        vertical-align: top;\n",
       "    }\n",
       "\n",
       "    .dataframe thead th {\n",
       "        text-align: right;\n",
       "    }\n",
       "</style>\n",
       "<table border=\"1\" class=\"dataframe\">\n",
       "  <thead>\n",
       "    <tr style=\"text-align: right;\">\n",
       "      <th></th>\n",
       "      <th>movieId</th>\n",
       "      <th>tagId</th>\n",
       "      <th>relevance</th>\n",
       "      <th>tag</th>\n",
       "      <th>title</th>\n",
       "      <th>genres</th>\n",
       "      <th>year</th>\n",
       "      <th>total_votes</th>\n",
       "      <th>rating</th>\n",
       "      <th>wr</th>\n",
       "      <th>relevance_rank</th>\n",
       "    </tr>\n",
       "  </thead>\n",
       "  <tbody>\n",
       "    <tr>\n",
       "      <th>0</th>\n",
       "      <td>1</td>\n",
       "      <td>1</td>\n",
       "      <td>0.02900</td>\n",
       "      <td>007</td>\n",
       "      <td>Toy Story (1995)</td>\n",
       "      <td>Adventure|Animation|Children|Comedy|Fantasy</td>\n",
       "      <td>1995.0</td>\n",
       "      <td>266115</td>\n",
       "      <td>3.886649</td>\n",
       "      <td>3.823042</td>\n",
       "      <td>877</td>\n",
       "    </tr>\n",
       "    <tr>\n",
       "      <th>1</th>\n",
       "      <td>1</td>\n",
       "      <td>2</td>\n",
       "      <td>0.02375</td>\n",
       "      <td>007 (series)</td>\n",
       "      <td>Toy Story (1995)</td>\n",
       "      <td>Adventure|Animation|Children|Comedy|Fantasy</td>\n",
       "      <td>1995.0</td>\n",
       "      <td>266115</td>\n",
       "      <td>3.886649</td>\n",
       "      <td>3.823042</td>\n",
       "      <td>942</td>\n",
       "    </tr>\n",
       "    <tr>\n",
       "      <th>2</th>\n",
       "      <td>1</td>\n",
       "      <td>3</td>\n",
       "      <td>0.05425</td>\n",
       "      <td>18th century</td>\n",
       "      <td>Toy Story (1995)</td>\n",
       "      <td>Adventure|Animation|Children|Comedy|Fantasy</td>\n",
       "      <td>1995.0</td>\n",
       "      <td>266115</td>\n",
       "      <td>3.886649</td>\n",
       "      <td>3.823042</td>\n",
       "      <td>686</td>\n",
       "    </tr>\n",
       "    <tr>\n",
       "      <th>3</th>\n",
       "      <td>1</td>\n",
       "      <td>4</td>\n",
       "      <td>0.06875</td>\n",
       "      <td>1920s</td>\n",
       "      <td>Toy Story (1995)</td>\n",
       "      <td>Adventure|Animation|Children|Comedy|Fantasy</td>\n",
       "      <td>1995.0</td>\n",
       "      <td>266115</td>\n",
       "      <td>3.886649</td>\n",
       "      <td>3.823042</td>\n",
       "      <td>606</td>\n",
       "    </tr>\n",
       "    <tr>\n",
       "      <th>4</th>\n",
       "      <td>1</td>\n",
       "      <td>5</td>\n",
       "      <td>0.16000</td>\n",
       "      <td>1930s</td>\n",
       "      <td>Toy Story (1995)</td>\n",
       "      <td>Adventure|Animation|Children|Comedy|Fantasy</td>\n",
       "      <td>1995.0</td>\n",
       "      <td>266115</td>\n",
       "      <td>3.886649</td>\n",
       "      <td>3.823042</td>\n",
       "      <td>362</td>\n",
       "    </tr>\n",
       "  </tbody>\n",
       "</table>\n",
       "</div>"
      ],
      "text/plain": [
       "   movieId  tagId  relevance           tag             title  \\\n",
       "0        1      1    0.02900           007  Toy Story (1995)   \n",
       "1        1      2    0.02375  007 (series)  Toy Story (1995)   \n",
       "2        1      3    0.05425  18th century  Toy Story (1995)   \n",
       "3        1      4    0.06875         1920s  Toy Story (1995)   \n",
       "4        1      5    0.16000         1930s  Toy Story (1995)   \n",
       "\n",
       "                                        genres    year  total_votes    rating  \\\n",
       "0  Adventure|Animation|Children|Comedy|Fantasy  1995.0       266115  3.886649   \n",
       "1  Adventure|Animation|Children|Comedy|Fantasy  1995.0       266115  3.886649   \n",
       "2  Adventure|Animation|Children|Comedy|Fantasy  1995.0       266115  3.886649   \n",
       "3  Adventure|Animation|Children|Comedy|Fantasy  1995.0       266115  3.886649   \n",
       "4  Adventure|Animation|Children|Comedy|Fantasy  1995.0       266115  3.886649   \n",
       "\n",
       "         wr  relevance_rank  \n",
       "0  3.823042             877  \n",
       "1  3.823042             942  \n",
       "2  3.823042             686  \n",
       "3  3.823042             606  \n",
       "4  3.823042             362  "
      ]
     },
     "execution_count": 26,
     "metadata": {},
     "output_type": "execute_result"
    }
   ],
   "source": [
    "mv_tags_denorm.head()"
   ]
  },
  {
   "cell_type": "code",
   "execution_count": 77,
   "metadata": {
    "colab": {},
    "colab_type": "code",
    "id": "GK3xmGep6xjJ"
   },
   "outputs": [],
   "source": [
    "# compute median relevance score for each relevance rank\n",
    "mv_tags_rank_agg = mv_tags_denorm.groupby('relevance_rank')['relevance'].median().reset_index(name\n",
    "                                                                                = 'relevance_median').head(100)"
   ]
  },
  {
   "cell_type": "code",
   "execution_count": 78,
   "metadata": {},
   "outputs": [
    {
     "data": {
      "text/html": [
       "<div>\n",
       "<style scoped>\n",
       "    .dataframe tbody tr th:only-of-type {\n",
       "        vertical-align: middle;\n",
       "    }\n",
       "\n",
       "    .dataframe tbody tr th {\n",
       "        vertical-align: top;\n",
       "    }\n",
       "\n",
       "    .dataframe thead th {\n",
       "        text-align: right;\n",
       "    }\n",
       "</style>\n",
       "<table border=\"1\" class=\"dataframe\">\n",
       "  <thead>\n",
       "    <tr style=\"text-align: right;\">\n",
       "      <th></th>\n",
       "      <th>relevance_rank</th>\n",
       "      <th>relevance_median</th>\n",
       "    </tr>\n",
       "  </thead>\n",
       "  <tbody>\n",
       "    <tr>\n",
       "      <th>0</th>\n",
       "      <td>1</td>\n",
       "      <td>0.981500</td>\n",
       "    </tr>\n",
       "    <tr>\n",
       "      <th>1</th>\n",
       "      <td>2</td>\n",
       "      <td>0.956500</td>\n",
       "    </tr>\n",
       "    <tr>\n",
       "      <th>2</th>\n",
       "      <td>3</td>\n",
       "      <td>0.929250</td>\n",
       "    </tr>\n",
       "    <tr>\n",
       "      <th>3</th>\n",
       "      <td>4</td>\n",
       "      <td>0.903500</td>\n",
       "    </tr>\n",
       "    <tr>\n",
       "      <th>4</th>\n",
       "      <td>5</td>\n",
       "      <td>0.878000</td>\n",
       "    </tr>\n",
       "    <tr>\n",
       "      <th>...</th>\n",
       "      <td>...</td>\n",
       "      <td>...</td>\n",
       "    </tr>\n",
       "    <tr>\n",
       "      <th>95</th>\n",
       "      <td>96</td>\n",
       "      <td>0.307875</td>\n",
       "    </tr>\n",
       "    <tr>\n",
       "      <th>96</th>\n",
       "      <td>97</td>\n",
       "      <td>0.305750</td>\n",
       "    </tr>\n",
       "    <tr>\n",
       "      <th>97</th>\n",
       "      <td>98</td>\n",
       "      <td>0.303750</td>\n",
       "    </tr>\n",
       "    <tr>\n",
       "      <th>98</th>\n",
       "      <td>99</td>\n",
       "      <td>0.301750</td>\n",
       "    </tr>\n",
       "    <tr>\n",
       "      <th>99</th>\n",
       "      <td>100</td>\n",
       "      <td>0.299750</td>\n",
       "    </tr>\n",
       "  </tbody>\n",
       "</table>\n",
       "<p>100 rows × 2 columns</p>\n",
       "</div>"
      ],
      "text/plain": [
       "    relevance_rank  relevance_median\n",
       "0                1          0.981500\n",
       "1                2          0.956500\n",
       "2                3          0.929250\n",
       "3                4          0.903500\n",
       "4                5          0.878000\n",
       "..             ...               ...\n",
       "95              96          0.307875\n",
       "96              97          0.305750\n",
       "97              98          0.303750\n",
       "98              99          0.301750\n",
       "99             100          0.299750\n",
       "\n",
       "[100 rows x 2 columns]"
      ]
     },
     "execution_count": 78,
     "metadata": {},
     "output_type": "execute_result"
    }
   ],
   "source": [
    "mv_tags_rank_agg"
   ]
  },
  {
   "cell_type": "code",
   "execution_count": 79,
   "metadata": {
    "colab": {},
    "colab_type": "code",
    "id": "GK3xmGep6xjJ"
   },
   "outputs": [],
   "source": [
    "# compute percent change of median relevance score as we go down in rank\n",
    "mv_tags_rank_agg['relevance_median_pct_chg'] = mv_tags_rank_agg['relevance_median'].pct_change()"
   ]
  },
  {
   "cell_type": "code",
   "execution_count": 80,
   "metadata": {},
   "outputs": [
    {
     "data": {
      "text/html": [
       "<div>\n",
       "<style scoped>\n",
       "    .dataframe tbody tr th:only-of-type {\n",
       "        vertical-align: middle;\n",
       "    }\n",
       "\n",
       "    .dataframe tbody tr th {\n",
       "        vertical-align: top;\n",
       "    }\n",
       "\n",
       "    .dataframe thead th {\n",
       "        text-align: right;\n",
       "    }\n",
       "</style>\n",
       "<table border=\"1\" class=\"dataframe\">\n",
       "  <thead>\n",
       "    <tr style=\"text-align: right;\">\n",
       "      <th></th>\n",
       "      <th>relevance_rank</th>\n",
       "      <th>relevance_median</th>\n",
       "      <th>relevance_median_pct_chg</th>\n",
       "    </tr>\n",
       "  </thead>\n",
       "  <tbody>\n",
       "    <tr>\n",
       "      <th>0</th>\n",
       "      <td>1</td>\n",
       "      <td>0.98150</td>\n",
       "      <td>NaN</td>\n",
       "    </tr>\n",
       "    <tr>\n",
       "      <th>1</th>\n",
       "      <td>2</td>\n",
       "      <td>0.95650</td>\n",
       "      <td>-0.025471</td>\n",
       "    </tr>\n",
       "    <tr>\n",
       "      <th>2</th>\n",
       "      <td>3</td>\n",
       "      <td>0.92925</td>\n",
       "      <td>-0.028489</td>\n",
       "    </tr>\n",
       "    <tr>\n",
       "      <th>3</th>\n",
       "      <td>4</td>\n",
       "      <td>0.90350</td>\n",
       "      <td>-0.027711</td>\n",
       "    </tr>\n",
       "    <tr>\n",
       "      <th>4</th>\n",
       "      <td>5</td>\n",
       "      <td>0.87800</td>\n",
       "      <td>-0.028224</td>\n",
       "    </tr>\n",
       "  </tbody>\n",
       "</table>\n",
       "</div>"
      ],
      "text/plain": [
       "   relevance_rank  relevance_median  relevance_median_pct_chg\n",
       "0               1           0.98150                       NaN\n",
       "1               2           0.95650                 -0.025471\n",
       "2               3           0.92925                 -0.028489\n",
       "3               4           0.90350                 -0.027711\n",
       "4               5           0.87800                 -0.028224"
      ]
     },
     "execution_count": 80,
     "metadata": {},
     "output_type": "execute_result"
    }
   ],
   "source": [
    "mv_tags_rank_agg.head()"
   ]
  },
  {
   "cell_type": "code",
   "execution_count": 81,
   "metadata": {
    "colab": {},
    "colab_type": "code",
    "id": "ZIQBvofV6xjU"
   },
   "outputs": [],
   "source": [
    "mv_tags_list = mv_tags_denorm[mv_tags_denorm.relevance_rank <=\n",
    "            100].groupby(['movieId','title','rating','wr'])['tag'].apply(lambda x: ' ,'.join(x)).reset_index()"
   ]
  },
  {
   "cell_type": "code",
   "execution_count": 82,
   "metadata": {
    "colab": {},
    "colab_type": "code",
    "id": "ZIQBvofV6xjU"
   },
   "outputs": [],
   "source": [
    "mv_tags_list['tag_list'] = mv_tags_list.tag.map(lambda x: x.split(','))"
   ]
  },
  {
   "cell_type": "code",
   "execution_count": 83,
   "metadata": {},
   "outputs": [],
   "source": [
    "mv_tags_list.drop('tag',1,inplace=True)"
   ]
  },
  {
   "cell_type": "code",
   "execution_count": 84,
   "metadata": {},
   "outputs": [
    {
     "data": {
      "text/plain": [
       "(13142, 5)"
      ]
     },
     "execution_count": 84,
     "metadata": {},
     "output_type": "execute_result"
    }
   ],
   "source": [
    "mv_tags_list.shape"
   ]
  },
  {
   "cell_type": "code",
   "execution_count": 27,
   "metadata": {},
   "outputs": [],
   "source": [
    "mov_id  = mv_tags_list['movieId']"
   ]
  },
  {
   "cell_type": "code",
   "execution_count": 28,
   "metadata": {},
   "outputs": [],
   "source": [
    "ratings1 = ratings.loc[ratings['movieId'].isin(mov_id)&(ratings['rating']>3)]"
   ]
  },
  {
   "cell_type": "code",
   "execution_count": 55,
   "metadata": {},
   "outputs": [
    {
     "data": {
      "text/plain": [
       "(17072150, 4)"
      ]
     },
     "execution_count": 55,
     "metadata": {},
     "output_type": "execute_result"
    }
   ],
   "source": [
    "ratings1.shape"
   ]
  },
  {
   "cell_type": "code",
   "execution_count": 30,
   "metadata": {},
   "outputs": [
    {
     "data": {
      "text/plain": [
       "(27753444, 4)"
      ]
     },
     "execution_count": 30,
     "metadata": {},
     "output_type": "execute_result"
    }
   ],
   "source": [
    "ratings.shape"
   ]
  },
  {
   "cell_type": "code",
   "execution_count": 72,
   "metadata": {
    "colab": {},
    "colab_type": "code",
    "id": "Ns_eLVYQ6xj5",
    "outputId": "03fb6380-20fd-4b17-8d35-42f122c60db0",
    "tags": []
   },
   "outputs": [
    {
     "name": "stdout",
     "output_type": "stream",
     "text": [
      "Movies most similar to Married Life based on tags:\n"
     ]
    },
    {
     "data": {
      "text/html": [
       "<div>\n",
       "<style scoped>\n",
       "    .dataframe tbody tr th:only-of-type {\n",
       "        vertical-align: middle;\n",
       "    }\n",
       "\n",
       "    .dataframe tbody tr th {\n",
       "        vertical-align: top;\n",
       "    }\n",
       "\n",
       "    .dataframe thead th {\n",
       "        text-align: right;\n",
       "    }\n",
       "</style>\n",
       "<table border=\"1\" class=\"dataframe\">\n",
       "  <thead>\n",
       "    <tr style=\"text-align: right;\">\n",
       "      <th></th>\n",
       "      <th>movieId</th>\n",
       "      <th>title</th>\n",
       "      <th>tag_list</th>\n",
       "      <th>rating</th>\n",
       "      <th>wr</th>\n",
       "      <th>jaccard_sim</th>\n",
       "    </tr>\n",
       "  </thead>\n",
       "  <tbody>\n",
       "    <tr>\n",
       "      <th>9209</th>\n",
       "      <td>58494</td>\n",
       "      <td>Married Life (2007)</td>\n",
       "      <td>[adaptation , adapted from:book , adultery , a...</td>\n",
       "      <td>4.173756</td>\n",
       "      <td>4.055213</td>\n",
       "      <td>1.000000</td>\n",
       "    </tr>\n",
       "    <tr>\n",
       "      <th>266</th>\n",
       "      <td>278</td>\n",
       "      <td>Miami Rhapsody (1995)</td>\n",
       "      <td>[adaptation , adapted from:book , adultery , b...</td>\n",
       "      <td>3.022477</td>\n",
       "      <td>3.062351</td>\n",
       "      <td>0.379310</td>\n",
       "    </tr>\n",
       "    <tr>\n",
       "      <th>4307</th>\n",
       "      <td>4782</td>\n",
       "      <td>Sidewalks of New York (2001)</td>\n",
       "      <td>[adaptation , addiction , adultery , affection...</td>\n",
       "      <td>3.177320</td>\n",
       "      <td>3.075664</td>\n",
       "      <td>0.369863</td>\n",
       "    </tr>\n",
       "    <tr>\n",
       "      <th>4579</th>\n",
       "      <td>5081</td>\n",
       "      <td>Birthday Girl (2001)</td>\n",
       "      <td>[adaptation , alternate endings , australia , ...</td>\n",
       "      <td>3.088038</td>\n",
       "      <td>3.070480</td>\n",
       "      <td>0.360544</td>\n",
       "    </tr>\n",
       "    <tr>\n",
       "      <th>1566</th>\n",
       "      <td>1770</td>\n",
       "      <td>B. Monkey (1998)</td>\n",
       "      <td>[adaptation , addiction , amy smart , based on...</td>\n",
       "      <td>2.859649</td>\n",
       "      <td>3.062780</td>\n",
       "      <td>0.360544</td>\n",
       "    </tr>\n",
       "    <tr>\n",
       "      <th>274</th>\n",
       "      <td>287</td>\n",
       "      <td>Nina Takes a Lover (1994)</td>\n",
       "      <td>[adaptation , adapted from:book , alternate en...</td>\n",
       "      <td>3.244012</td>\n",
       "      <td>3.076755</td>\n",
       "      <td>0.351351</td>\n",
       "    </tr>\n",
       "    <tr>\n",
       "      <th>9382</th>\n",
       "      <td>60950</td>\n",
       "      <td>Vicky Cristina Barcelona (2008)</td>\n",
       "      <td>[absurd , adultery , art , artist , artistic ,...</td>\n",
       "      <td>2.614286</td>\n",
       "      <td>3.066847</td>\n",
       "      <td>0.351351</td>\n",
       "    </tr>\n",
       "    <tr>\n",
       "      <th>7027</th>\n",
       "      <td>8841</td>\n",
       "      <td>Seeing Other People (2004)</td>\n",
       "      <td>[adaptation , addiction , adultery , bdsm , be...</td>\n",
       "      <td>3.192661</td>\n",
       "      <td>3.070576</td>\n",
       "      <td>0.342282</td>\n",
       "    </tr>\n",
       "    <tr>\n",
       "      <th>2818</th>\n",
       "      <td>3125</td>\n",
       "      <td>End of the Affair, The (1999)</td>\n",
       "      <td>[adaptation , adapted from:book , adultery , a...</td>\n",
       "      <td>3.598009</td>\n",
       "      <td>3.160337</td>\n",
       "      <td>0.342282</td>\n",
       "    </tr>\n",
       "    <tr>\n",
       "      <th>8177</th>\n",
       "      <td>38994</td>\n",
       "      <td>Separate Lies (2005)</td>\n",
       "      <td>[adaptation , adultery , based on a book , bas...</td>\n",
       "      <td>3.000000</td>\n",
       "      <td>3.068637</td>\n",
       "      <td>0.342282</td>\n",
       "    </tr>\n",
       "  </tbody>\n",
       "</table>\n",
       "</div>"
      ],
      "text/plain": [
       "      movieId                            title  \\\n",
       "9209    58494              Married Life (2007)   \n",
       "266       278            Miami Rhapsody (1995)   \n",
       "4307     4782     Sidewalks of New York (2001)   \n",
       "4579     5081             Birthday Girl (2001)   \n",
       "1566     1770                 B. Monkey (1998)   \n",
       "274       287        Nina Takes a Lover (1994)   \n",
       "9382    60950  Vicky Cristina Barcelona (2008)   \n",
       "7027     8841       Seeing Other People (2004)   \n",
       "2818     3125    End of the Affair, The (1999)   \n",
       "8177    38994             Separate Lies (2005)   \n",
       "\n",
       "                                               tag_list    rating        wr  \\\n",
       "9209  [adaptation , adapted from:book , adultery , a...  4.173756  4.055213   \n",
       "266   [adaptation , adapted from:book , adultery , b...  3.022477  3.062351   \n",
       "4307  [adaptation , addiction , adultery , affection...  3.177320  3.075664   \n",
       "4579  [adaptation , alternate endings , australia , ...  3.088038  3.070480   \n",
       "1566  [adaptation , addiction , amy smart , based on...  2.859649  3.062780   \n",
       "274   [adaptation , adapted from:book , alternate en...  3.244012  3.076755   \n",
       "9382  [absurd , adultery , art , artist , artistic ,...  2.614286  3.066847   \n",
       "7027  [adaptation , addiction , adultery , bdsm , be...  3.192661  3.070576   \n",
       "2818  [adaptation , adapted from:book , adultery , a...  3.598009  3.160337   \n",
       "8177  [adaptation , adultery , based on a book , bas...  3.000000  3.068637   \n",
       "\n",
       "      jaccard_sim  \n",
       "9209     1.000000  \n",
       "266      0.379310  \n",
       "4307     0.369863  \n",
       "4579     0.360544  \n",
       "1566     0.360544  \n",
       "274      0.351351  \n",
       "9382     0.351351  \n",
       "7027     0.342282  \n",
       "2818     0.342282  \n",
       "8177     0.342282  "
      ]
     },
     "execution_count": 72,
     "metadata": {},
     "output_type": "execute_result"
    }
   ],
   "source": [
    "pd.reset_option('display.max_colwidth')\n",
    "\n",
    "target_movie = 'Married Life'\n",
    "\n",
    "#target_tag_list contains the tags of target movie\n",
    "target_tag_list = mv_tags_list[mv_tags_list.title.str.contains(target_movie)].tag_list.values[0]\n",
    "\n",
    "#mv_tags_list_sim is anew table prepared from mv_tags_list with given column names\n",
    "mv_tags_list_sim = mv_tags_list[['movieId','title','tag_list','rating','wr']]\n",
    "\n",
    "#mv_tags_list_sim['jaccard_sim'] will hold the jaccard similarity of any 2 values\n",
    "\n",
    "mv_tags_list_sim['jaccard_sim'] = mv_tags_list_sim['tag_list'].apply(lambda x:\n",
    "                        len(set(x).intersection(set(target_tag_list))) / len(set(x).union(set(target_tag_list))))\n",
    "\n",
    "print(f'Movies most similar to {target_movie} based on tags:')\n",
    "\n",
    "#Sorting mv_tags_list_sim by jaccard similarity\n",
    "mv_tags_list_sim.sort_values(by = 'jaccard_sim', ascending = False).head(10)"
   ]
  },
  {
   "cell_type": "code",
   "execution_count": 29,
   "metadata": {
    "colab": {},
    "colab_type": "code",
    "id": "eciEKQ3O6xkP"
   },
   "outputs": [],
   "source": [
    "# from surprise import Reader, Dataset, SVD"
   ]
  },
  {
   "cell_type": "code",
   "execution_count": 30,
   "metadata": {},
   "outputs": [],
   "source": [
    "# Load the movielens-100k dataset\n",
    "# reader = Reader(line_format='user item rating', sep=',', rating_scale = (0,5))"
   ]
  },
  {
   "cell_type": "code",
   "execution_count": 31,
   "metadata": {},
   "outputs": [],
   "source": [
    "# data = Dataset.load_from_df(ratings1[['userId', 'movieId', 'rating']], reader)"
   ]
  },
  {
   "cell_type": "code",
   "execution_count": 32,
   "metadata": {},
   "outputs": [],
   "source": [
    "# algo = SVD()"
   ]
  },
  {
   "cell_type": "code",
   "execution_count": 33,
   "metadata": {},
   "outputs": [],
   "source": [
    " # Retrieve the trainset.\n",
    "# trainset = data.build_full_trainset()"
   ]
  },
  {
   "cell_type": "code",
   "execution_count": 34,
   "metadata": {},
   "outputs": [
    {
     "data": {
      "text/plain": [
       "<surprise.prediction_algorithms.matrix_factorization.SVD at 0x7fdb09cceb80>"
      ]
     },
     "execution_count": 34,
     "metadata": {},
     "output_type": "execute_result"
    }
   ],
   "source": [
    "# algo.fit(trainset)"
   ]
  },
  {
   "cell_type": "code",
   "execution_count": 29,
   "metadata": {},
   "outputs": [],
   "source": [
    "import pickle"
   ]
  },
  {
   "cell_type": "code",
   "execution_count": 78,
   "metadata": {},
   "outputs": [],
   "source": [
    "# file = open('test.pkl','wb')\n",
    "# pickle.dump(algo,file)\n",
    "# file.close()"
   ]
  },
  {
   "cell_type": "code",
   "execution_count": 31,
   "metadata": {},
   "outputs": [],
   "source": [
    "file = open('test.pkl','rb')\n",
    "algo = pickle.load(file)\n",
    "file.close()"
   ]
  },
  {
   "cell_type": "code",
   "execution_count": 34,
   "metadata": {
    "colab": {},
    "colab_type": "code",
    "id": "bqUrrf_S8rl_"
   },
   "outputs": [
    {
     "data": {
      "text/plain": [
       "Prediction(uid=169, iid=302, r_ui=None, est=4.364286494940225, details={'was_impossible': False})"
      ]
     },
     "execution_count": 34,
     "metadata": {},
     "output_type": "execute_result"
    }
   ],
   "source": [
    "algo.predict(169,302)"
   ]
  },
  {
   "cell_type": "code",
   "execution_count": 73,
   "metadata": {
    "colab": {},
    "colab_type": "code",
    "id": "5DBEXfkM8rdW"
   },
   "outputs": [],
   "source": [
    "def hybrid(userId, title):\n",
    "    \n",
    "    target_tag_list = mv_tags_list[mv_tags_list.title.str.contains(title)].tag_list.values[0]\n",
    "\n",
    "    mv_tags_list_sim = mv_tags_list[['movieId','title','tag_list','rating','wr']]\n",
    "\n",
    "    mv_tags_list_sim['jaccard_sim'] = mv_tags_list_sim.tag_list.map(lambda x: \n",
    "                        len(set(x).intersection(set(target_tag_list))) / len(set(x).union(set(target_tag_list))))\n",
    "\n",
    "    sim_scores =  mv_tags_list_sim.sort_values(by = 'jaccard_sim', ascending = False).head(10)\n",
    "    \n",
    "    movie_indices = [i for i in  sim_scores['movieId']]\n",
    "    \n",
    "    rec_mov = movies.loc[movies['movieId'].isin(movie_indices)]\n",
    "    \n",
    "    rec_mov['est'] =[ algo.predict(userId,x).est for x in movie_indices]\n",
    "    \n",
    "    rec_mov = rec_mov.sort_values('est', ascending=False)\n",
    "    \n",
    "    return rec_mov.head(10)"
   ]
  },
  {
   "cell_type": "code",
   "execution_count": 74,
   "metadata": {
    "colab": {},
    "colab_type": "code",
    "id": "uRqaW0ov91u_"
   },
   "outputs": [
    {
     "name": "stderr",
     "output_type": "stream",
     "text": [
      "<ipython-input-73-60763893da54>:16: SettingWithCopyWarning: \n",
      "A value is trying to be set on a copy of a slice from a DataFrame.\n",
      "Try using .loc[row_indexer,col_indexer] = value instead\n",
      "\n",
      "See the caveats in the documentation: https://pandas.pydata.org/pandas-docs/stable/user_guide/indexing.html#returning-a-view-versus-a-copy\n",
      "  rec_mov['est'] =[ algo.predict(userId,x).est for x in movie_indices]\n"
     ]
    },
    {
     "data": {
      "text/html": [
       "<div>\n",
       "<style scoped>\n",
       "    .dataframe tbody tr th:only-of-type {\n",
       "        vertical-align: middle;\n",
       "    }\n",
       "\n",
       "    .dataframe tbody tr th {\n",
       "        vertical-align: top;\n",
       "    }\n",
       "\n",
       "    .dataframe thead th {\n",
       "        text-align: right;\n",
       "    }\n",
       "</style>\n",
       "<table border=\"1\" class=\"dataframe\">\n",
       "  <thead>\n",
       "    <tr style=\"text-align: right;\">\n",
       "      <th></th>\n",
       "      <th>movieId</th>\n",
       "      <th>title</th>\n",
       "      <th>genres</th>\n",
       "      <th>year</th>\n",
       "      <th>total_votes</th>\n",
       "      <th>rating</th>\n",
       "      <th>wr</th>\n",
       "      <th>est</th>\n",
       "    </tr>\n",
       "  </thead>\n",
       "  <tbody>\n",
       "    <tr>\n",
       "      <th>4986</th>\n",
       "      <td>5081</td>\n",
       "      <td>Birthday Girl (2001)</td>\n",
       "      <td>Drama|Romance</td>\n",
       "      <td>2001.0</td>\n",
       "      <td>2297</td>\n",
       "      <td>3.088038</td>\n",
       "      <td>3.070480</td>\n",
       "      <td>4.418494</td>\n",
       "    </tr>\n",
       "    <tr>\n",
       "      <th>12552</th>\n",
       "      <td>58494</td>\n",
       "      <td>Married Life (2007)</td>\n",
       "      <td>Crime|Drama|Romance</td>\n",
       "      <td>2007.0</td>\n",
       "      <td>186738</td>\n",
       "      <td>4.173756</td>\n",
       "      <td>4.055213</td>\n",
       "      <td>4.394624</td>\n",
       "    </tr>\n",
       "    <tr>\n",
       "      <th>10511</th>\n",
       "      <td>38994</td>\n",
       "      <td>Separate Lies (2005)</td>\n",
       "      <td>Drama|Romance|Thriller</td>\n",
       "      <td>2005.0</td>\n",
       "      <td>15</td>\n",
       "      <td>3.000000</td>\n",
       "      <td>3.068637</td>\n",
       "      <td>4.380718</td>\n",
       "    </tr>\n",
       "    <tr>\n",
       "      <th>8158</th>\n",
       "      <td>8841</td>\n",
       "      <td>Seeing Other People (2004)</td>\n",
       "      <td>Comedy</td>\n",
       "      <td>2004.0</td>\n",
       "      <td>348</td>\n",
       "      <td>3.192661</td>\n",
       "      <td>3.070576</td>\n",
       "      <td>4.305002</td>\n",
       "    </tr>\n",
       "    <tr>\n",
       "      <th>4687</th>\n",
       "      <td>4782</td>\n",
       "      <td>Sidewalks of New York (2001)</td>\n",
       "      <td>Comedy|Romance</td>\n",
       "      <td>2001.0</td>\n",
       "      <td>1541</td>\n",
       "      <td>3.177320</td>\n",
       "      <td>3.075664</td>\n",
       "      <td>4.291306</td>\n",
       "    </tr>\n",
       "    <tr>\n",
       "      <th>12934</th>\n",
       "      <td>60950</td>\n",
       "      <td>Vicky Cristina Barcelona (2008)</td>\n",
       "      <td>Comedy|Drama|Romance</td>\n",
       "      <td>2008.0</td>\n",
       "      <td>91</td>\n",
       "      <td>2.614286</td>\n",
       "      <td>3.066847</td>\n",
       "      <td>4.228390</td>\n",
       "    </tr>\n",
       "    <tr>\n",
       "      <th>284</th>\n",
       "      <td>287</td>\n",
       "      <td>Nina Takes a Lover (1994)</td>\n",
       "      <td>Comedy|Romance</td>\n",
       "      <td>1994.0</td>\n",
       "      <td>1083</td>\n",
       "      <td>3.244012</td>\n",
       "      <td>3.076755</td>\n",
       "      <td>4.123144</td>\n",
       "    </tr>\n",
       "    <tr>\n",
       "      <th>1701</th>\n",
       "      <td>1770</td>\n",
       "      <td>B. Monkey (1998)</td>\n",
       "      <td>Crime|Romance|Thriller</td>\n",
       "      <td>1998.0</td>\n",
       "      <td>652</td>\n",
       "      <td>2.859649</td>\n",
       "      <td>3.062780</td>\n",
       "      <td>4.105139</td>\n",
       "    </tr>\n",
       "    <tr>\n",
       "      <th>275</th>\n",
       "      <td>278</td>\n",
       "      <td>Miami Rhapsody (1995)</td>\n",
       "      <td>Comedy</td>\n",
       "      <td>1995.0</td>\n",
       "      <td>3563</td>\n",
       "      <td>3.022477</td>\n",
       "      <td>3.062351</td>\n",
       "      <td>4.065165</td>\n",
       "    </tr>\n",
       "    <tr>\n",
       "      <th>3039</th>\n",
       "      <td>3125</td>\n",
       "      <td>End of the Affair, The (1999)</td>\n",
       "      <td>Drama</td>\n",
       "      <td>1999.0</td>\n",
       "      <td>4699</td>\n",
       "      <td>3.598009</td>\n",
       "      <td>3.160337</td>\n",
       "      <td>3.940213</td>\n",
       "    </tr>\n",
       "  </tbody>\n",
       "</table>\n",
       "</div>"
      ],
      "text/plain": [
       "       movieId                            title                  genres  \\\n",
       "4986      5081             Birthday Girl (2001)           Drama|Romance   \n",
       "12552    58494              Married Life (2007)     Crime|Drama|Romance   \n",
       "10511    38994             Separate Lies (2005)  Drama|Romance|Thriller   \n",
       "8158      8841       Seeing Other People (2004)                  Comedy   \n",
       "4687      4782     Sidewalks of New York (2001)          Comedy|Romance   \n",
       "12934    60950  Vicky Cristina Barcelona (2008)    Comedy|Drama|Romance   \n",
       "284        287        Nina Takes a Lover (1994)          Comedy|Romance   \n",
       "1701      1770                 B. Monkey (1998)  Crime|Romance|Thriller   \n",
       "275        278            Miami Rhapsody (1995)                  Comedy   \n",
       "3039      3125    End of the Affair, The (1999)                   Drama   \n",
       "\n",
       "         year  total_votes    rating        wr       est  \n",
       "4986   2001.0         2297  3.088038  3.070480  4.418494  \n",
       "12552  2007.0       186738  4.173756  4.055213  4.394624  \n",
       "10511  2005.0           15  3.000000  3.068637  4.380718  \n",
       "8158   2004.0          348  3.192661  3.070576  4.305002  \n",
       "4687   2001.0         1541  3.177320  3.075664  4.291306  \n",
       "12934  2008.0           91  2.614286  3.066847  4.228390  \n",
       "284    1994.0         1083  3.244012  3.076755  4.123144  \n",
       "1701   1998.0          652  2.859649  3.062780  4.105139  \n",
       "275    1995.0         3563  3.022477  3.062351  4.065165  \n",
       "3039   1999.0         4699  3.598009  3.160337  3.940213  "
      ]
     },
     "execution_count": 74,
     "metadata": {},
     "output_type": "execute_result"
    }
   ],
   "source": [
    "hybrid(165,'Married Life' )"
   ]
  },
  {
   "cell_type": "code",
   "execution_count": null,
   "metadata": {
    "colab": {},
    "colab_type": "code",
    "id": "VzwLAwCr91ra"
   },
   "outputs": [],
   "source": []
  },
  {
   "cell_type": "code",
   "execution_count": 59,
   "metadata": {
    "colab": {},
    "colab_type": "code",
    "id": "P905TUkc91ko"
   },
   "outputs": [],
   "source": [
    "p = mv_tags_list[mv_tags_list['tag'].str.contains('Romance',case=False)]"
   ]
  },
  {
   "cell_type": "code",
   "execution_count": 61,
   "metadata": {
    "colab": {},
    "colab_type": "code",
    "id": "5DzL-Ktc8rZ5"
   },
   "outputs": [
    {
     "data": {
      "text/html": [
       "<div>\n",
       "<style scoped>\n",
       "    .dataframe tbody tr th:only-of-type {\n",
       "        vertical-align: middle;\n",
       "    }\n",
       "\n",
       "    .dataframe tbody tr th {\n",
       "        vertical-align: top;\n",
       "    }\n",
       "\n",
       "    .dataframe thead th {\n",
       "        text-align: right;\n",
       "    }\n",
       "</style>\n",
       "<table border=\"1\" class=\"dataframe\">\n",
       "  <thead>\n",
       "    <tr style=\"text-align: right;\">\n",
       "      <th></th>\n",
       "      <th>movieId</th>\n",
       "      <th>title</th>\n",
       "      <th>rating</th>\n",
       "      <th>wr</th>\n",
       "      <th>tag</th>\n",
       "      <th>tag_list</th>\n",
       "    </tr>\n",
       "  </thead>\n",
       "  <tbody>\n",
       "    <tr>\n",
       "      <th>9209</th>\n",
       "      <td>58494</td>\n",
       "      <td>Married Life (2007)</td>\n",
       "      <td>4.173756</td>\n",
       "      <td>4.055213</td>\n",
       "      <td>adaptation ,adapted from:book ,adultery ,alter...</td>\n",
       "      <td>[adaptation , adapted from:book , adultery , a...</td>\n",
       "    </tr>\n",
       "    <tr>\n",
       "      <th>823</th>\n",
       "      <td>912</td>\n",
       "      <td>Casablanca (1942)</td>\n",
       "      <td>4.210098</td>\n",
       "      <td>4.043084</td>\n",
       "      <td>adultery ,affectionate ,afi 100 ,afi 100 (movi...</td>\n",
       "      <td>[adultery , affectionate , afi 100 , afi 100 (...</td>\n",
       "    </tr>\n",
       "    <tr>\n",
       "      <th>1078</th>\n",
       "      <td>1198</td>\n",
       "      <td>Raiders of the Lost Ark (Indiana Jones and the...</td>\n",
       "      <td>4.120455</td>\n",
       "      <td>4.037387</td>\n",
       "      <td>1930s ,action ,action packed ,adventure ,archa...</td>\n",
       "      <td>[1930s , action , action packed , adventure , ...</td>\n",
       "    </tr>\n",
       "    <tr>\n",
       "      <th>1077</th>\n",
       "      <td>1197</td>\n",
       "      <td>Princess Bride, The (1987)</td>\n",
       "      <td>4.124807</td>\n",
       "      <td>4.005902</td>\n",
       "      <td>absurd ,action ,adaptation ,adapted from:book ...</td>\n",
       "      <td>[absurd , action , adaptation , adapted from:b...</td>\n",
       "    </tr>\n",
       "    <tr>\n",
       "      <th>4482</th>\n",
       "      <td>4973</td>\n",
       "      <td>Amelie (Fabuleux destin d'Amélie Poulain, Le) ...</td>\n",
       "      <td>4.117255</td>\n",
       "      <td>3.983161</td>\n",
       "      <td>affectionate ,amazing cinematography ,art ,art...</td>\n",
       "      <td>[affectionate , amazing cinematography , art ,...</td>\n",
       "    </tr>\n",
       "    <tr>\n",
       "      <th>819</th>\n",
       "      <td>908</td>\n",
       "      <td>North by Northwest (1959)</td>\n",
       "      <td>4.201091</td>\n",
       "      <td>3.958711</td>\n",
       "      <td>007 (series) ,action ,adapted from:book ,adven...</td>\n",
       "      <td>[007 (series) , action , adapted from:book , a...</td>\n",
       "    </tr>\n",
       "    <tr>\n",
       "      <th>106</th>\n",
       "      <td>110</td>\n",
       "      <td>Braveheart (1995)</td>\n",
       "      <td>4.008481</td>\n",
       "      <td>3.937771</td>\n",
       "      <td>action ,action packed ,adventure ,amazing cine...</td>\n",
       "      <td>[action , action packed , adventure , amazing ...</td>\n",
       "    </tr>\n",
       "    <tr>\n",
       "      <th>6382</th>\n",
       "      <td>7361</td>\n",
       "      <td>Eternal Sunshine of the Spotless Mind (2004)</td>\n",
       "      <td>4.073480</td>\n",
       "      <td>3.937059</td>\n",
       "      <td>alternate reality ,amazing cinematography ,amn...</td>\n",
       "      <td>[alternate reality , amazing cinematography , ...</td>\n",
       "    </tr>\n",
       "    <tr>\n",
       "      <th>814</th>\n",
       "      <td>903</td>\n",
       "      <td>Vertigo (1958)</td>\n",
       "      <td>4.119519</td>\n",
       "      <td>3.874626</td>\n",
       "      <td>70mm ,adapted from:book ,afi 100 (movie quotes...</td>\n",
       "      <td>[70mm , adapted from:book , afi 100 (movie quo...</td>\n",
       "    </tr>\n",
       "    <tr>\n",
       "      <th>1147</th>\n",
       "      <td>1270</td>\n",
       "      <td>Back to the Future (1985)</td>\n",
       "      <td>3.929999</td>\n",
       "      <td>3.852188</td>\n",
       "      <td>1950s ,1980s ,80s ,action ,adventure ,alternat...</td>\n",
       "      <td>[1950s , 1980s , 80s , action , adventure , al...</td>\n",
       "    </tr>\n",
       "  </tbody>\n",
       "</table>\n",
       "</div>"
      ],
      "text/plain": [
       "      movieId                                              title    rating  \\\n",
       "9209    58494                                Married Life (2007)  4.173756   \n",
       "823       912                                  Casablanca (1942)  4.210098   \n",
       "1078     1198  Raiders of the Lost Ark (Indiana Jones and the...  4.120455   \n",
       "1077     1197                         Princess Bride, The (1987)  4.124807   \n",
       "4482     4973  Amelie (Fabuleux destin d'Amélie Poulain, Le) ...  4.117255   \n",
       "819       908                          North by Northwest (1959)  4.201091   \n",
       "106       110                                  Braveheart (1995)  4.008481   \n",
       "6382     7361       Eternal Sunshine of the Spotless Mind (2004)  4.073480   \n",
       "814       903                                     Vertigo (1958)  4.119519   \n",
       "1147     1270                          Back to the Future (1985)  3.929999   \n",
       "\n",
       "            wr                                                tag  \\\n",
       "9209  4.055213  adaptation ,adapted from:book ,adultery ,alter...   \n",
       "823   4.043084  adultery ,affectionate ,afi 100 ,afi 100 (movi...   \n",
       "1078  4.037387  1930s ,action ,action packed ,adventure ,archa...   \n",
       "1077  4.005902  absurd ,action ,adaptation ,adapted from:book ...   \n",
       "4482  3.983161  affectionate ,amazing cinematography ,art ,art...   \n",
       "819   3.958711  007 (series) ,action ,adapted from:book ,adven...   \n",
       "106   3.937771  action ,action packed ,adventure ,amazing cine...   \n",
       "6382  3.937059  alternate reality ,amazing cinematography ,amn...   \n",
       "814   3.874626  70mm ,adapted from:book ,afi 100 (movie quotes...   \n",
       "1147  3.852188  1950s ,1980s ,80s ,action ,adventure ,alternat...   \n",
       "\n",
       "                                               tag_list  \n",
       "9209  [adaptation , adapted from:book , adultery , a...  \n",
       "823   [adultery , affectionate , afi 100 , afi 100 (...  \n",
       "1078  [1930s , action , action packed , adventure , ...  \n",
       "1077  [absurd , action , adaptation , adapted from:b...  \n",
       "4482  [affectionate , amazing cinematography , art ,...  \n",
       "819   [007 (series) , action , adapted from:book , a...  \n",
       "106   [action , action packed , adventure , amazing ...  \n",
       "6382  [alternate reality , amazing cinematography , ...  \n",
       "814   [70mm , adapted from:book , afi 100 (movie quo...  \n",
       "1147  [1950s , 1980s , 80s , action , adventure , al...  "
      ]
     },
     "execution_count": 61,
     "metadata": {},
     "output_type": "execute_result"
    }
   ],
   "source": [
    "p.sort_values(['wr'], ascending=[False]).head(10)"
   ]
  },
  {
   "cell_type": "code",
   "execution_count": 62,
   "metadata": {
    "colab": {},
    "colab_type": "code",
    "id": "5WNB-fpD6xk-"
   },
   "outputs": [],
   "source": [
    "p = movies[movies['genres'].str.contains('Romance',case=False)]"
   ]
  },
  {
   "cell_type": "code",
   "execution_count": 64,
   "metadata": {
    "colab": {},
    "colab_type": "code",
    "id": "evyP50AG6xlJ",
    "outputId": "859130af-f882-48c9-babc-53118409920e"
   },
   "outputs": [
    {
     "data": {
      "text/html": [
       "<div>\n",
       "<style scoped>\n",
       "    .dataframe tbody tr th:only-of-type {\n",
       "        vertical-align: middle;\n",
       "    }\n",
       "\n",
       "    .dataframe tbody tr th {\n",
       "        vertical-align: top;\n",
       "    }\n",
       "\n",
       "    .dataframe thead th {\n",
       "        text-align: right;\n",
       "    }\n",
       "</style>\n",
       "<table border=\"1\" class=\"dataframe\">\n",
       "  <thead>\n",
       "    <tr style=\"text-align: right;\">\n",
       "      <th></th>\n",
       "      <th>movieId</th>\n",
       "      <th>title</th>\n",
       "      <th>genres</th>\n",
       "      <th>year</th>\n",
       "      <th>total_votes</th>\n",
       "      <th>rating</th>\n",
       "      <th>wr</th>\n",
       "    </tr>\n",
       "  </thead>\n",
       "  <tbody>\n",
       "    <tr>\n",
       "      <th>12552</th>\n",
       "      <td>58494</td>\n",
       "      <td>Married Life (2007)</td>\n",
       "      <td>Crime|Drama|Romance</td>\n",
       "      <td>2007.0</td>\n",
       "      <td>186738</td>\n",
       "      <td>4.173756</td>\n",
       "      <td>4.055213</td>\n",
       "    </tr>\n",
       "    <tr>\n",
       "      <th>895</th>\n",
       "      <td>912</td>\n",
       "      <td>Casablanca (1942)</td>\n",
       "      <td>Drama|Romance</td>\n",
       "      <td>1942.0</td>\n",
       "      <td>130913</td>\n",
       "      <td>4.210098</td>\n",
       "      <td>4.043084</td>\n",
       "    </tr>\n",
       "    <tr>\n",
       "      <th>2773</th>\n",
       "      <td>2858</td>\n",
       "      <td>American Beauty (1999)</td>\n",
       "      <td>Drama|Romance</td>\n",
       "      <td>1999.0</td>\n",
       "      <td>250670</td>\n",
       "      <td>4.121506</td>\n",
       "      <td>4.035006</td>\n",
       "    </tr>\n",
       "    <tr>\n",
       "      <th>1172</th>\n",
       "      <td>1197</td>\n",
       "      <td>Princess Bride, The (1987)</td>\n",
       "      <td>Action|Adventure|Comedy|Fantasy|Romance</td>\n",
       "      <td>1987.0</td>\n",
       "      <td>176863</td>\n",
       "      <td>4.124807</td>\n",
       "      <td>4.005902</td>\n",
       "    </tr>\n",
       "    <tr>\n",
       "      <th>352</th>\n",
       "      <td>356</td>\n",
       "      <td>Forrest Gump (1994)</td>\n",
       "      <td>Comedy|Drama|Romance|War</td>\n",
       "      <td>1994.0</td>\n",
       "      <td>393651</td>\n",
       "      <td>4.056585</td>\n",
       "      <td>4.003310</td>\n",
       "    </tr>\n",
       "    <tr>\n",
       "      <th>4878</th>\n",
       "      <td>4973</td>\n",
       "      <td>Amelie (Fabuleux destin d'Amélie Poulain, Le) ...</td>\n",
       "      <td>Comedy|Romance</td>\n",
       "      <td>2001.0</td>\n",
       "      <td>153026</td>\n",
       "      <td>4.117255</td>\n",
       "      <td>3.983161</td>\n",
       "    </tr>\n",
       "    <tr>\n",
       "      <th>2240</th>\n",
       "      <td>2324</td>\n",
       "      <td>Life Is Beautiful (La Vita è bella) (1997)</td>\n",
       "      <td>Comedy|Drama|Romance|War</td>\n",
       "      <td>1997.0</td>\n",
       "      <td>112385</td>\n",
       "      <td>4.163178</td>\n",
       "      <td>3.981021</td>\n",
       "    </tr>\n",
       "    <tr>\n",
       "      <th>1645</th>\n",
       "      <td>1704</td>\n",
       "      <td>Good Will Hunting (1997)</td>\n",
       "      <td>Drama|Romance</td>\n",
       "      <td>1997.0</td>\n",
       "      <td>174343</td>\n",
       "      <td>4.076387</td>\n",
       "      <td>3.961480</td>\n",
       "    </tr>\n",
       "    <tr>\n",
       "      <th>891</th>\n",
       "      <td>908</td>\n",
       "      <td>North by Northwest (1959)</td>\n",
       "      <td>Action|Adventure|Mystery|Romance|Thriller</td>\n",
       "      <td>1959.0</td>\n",
       "      <td>82396</td>\n",
       "      <td>4.201091</td>\n",
       "      <td>3.958711</td>\n",
       "    </tr>\n",
       "    <tr>\n",
       "      <th>7250</th>\n",
       "      <td>7361</td>\n",
       "      <td>Eternal Sunshine of the Spotless Mind (2004)</td>\n",
       "      <td>Drama|Romance|Sci-Fi</td>\n",
       "      <td>2004.0</td>\n",
       "      <td>142832</td>\n",
       "      <td>4.073480</td>\n",
       "      <td>3.937059</td>\n",
       "    </tr>\n",
       "  </tbody>\n",
       "</table>\n",
       "</div>"
      ],
      "text/plain": [
       "       movieId                                              title  \\\n",
       "12552    58494                                Married Life (2007)   \n",
       "895        912                                  Casablanca (1942)   \n",
       "2773      2858                             American Beauty (1999)   \n",
       "1172      1197                         Princess Bride, The (1987)   \n",
       "352        356                                Forrest Gump (1994)   \n",
       "4878      4973  Amelie (Fabuleux destin d'Amélie Poulain, Le) ...   \n",
       "2240      2324         Life Is Beautiful (La Vita è bella) (1997)   \n",
       "1645      1704                           Good Will Hunting (1997)   \n",
       "891        908                          North by Northwest (1959)   \n",
       "7250      7361       Eternal Sunshine of the Spotless Mind (2004)   \n",
       "\n",
       "                                          genres    year  total_votes  \\\n",
       "12552                        Crime|Drama|Romance  2007.0       186738   \n",
       "895                                Drama|Romance  1942.0       130913   \n",
       "2773                               Drama|Romance  1999.0       250670   \n",
       "1172     Action|Adventure|Comedy|Fantasy|Romance  1987.0       176863   \n",
       "352                     Comedy|Drama|Romance|War  1994.0       393651   \n",
       "4878                              Comedy|Romance  2001.0       153026   \n",
       "2240                    Comedy|Drama|Romance|War  1997.0       112385   \n",
       "1645                               Drama|Romance  1997.0       174343   \n",
       "891    Action|Adventure|Mystery|Romance|Thriller  1959.0        82396   \n",
       "7250                        Drama|Romance|Sci-Fi  2004.0       142832   \n",
       "\n",
       "         rating        wr  \n",
       "12552  4.173756  4.055213  \n",
       "895    4.210098  4.043084  \n",
       "2773   4.121506  4.035006  \n",
       "1172   4.124807  4.005902  \n",
       "352    4.056585  4.003310  \n",
       "4878   4.117255  3.983161  \n",
       "2240   4.163178  3.981021  \n",
       "1645   4.076387  3.961480  \n",
       "891    4.201091  3.958711  \n",
       "7250   4.073480  3.937059  "
      ]
     },
     "execution_count": 64,
     "metadata": {},
     "output_type": "execute_result"
    }
   ],
   "source": [
    "p.sort_values(['wr'], ascending=[False]).head(10)"
   ]
  },
  {
   "cell_type": "code",
   "execution_count": null,
   "metadata": {},
   "outputs": [],
   "source": []
  }
 ],
 "metadata": {
  "colab": {
   "name": "RS.ipynb",
   "provenance": []
  },
  "kernelspec": {
   "display_name": "Python 3",
   "language": "python",
   "name": "python3"
  },
  "language_info": {
   "codemirror_mode": {
    "name": "ipython",
    "version": 3
   },
   "file_extension": ".py",
   "mimetype": "text/x-python",
   "name": "python",
   "nbconvert_exporter": "python",
   "pygments_lexer": "ipython3",
   "version": "3.7.3"
  }
 },
 "nbformat": 4,
 "nbformat_minor": 1
}
